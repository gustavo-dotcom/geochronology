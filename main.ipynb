{
 "cells": [
  {
   "cell_type": "code",
   "execution_count": null,
   "metadata": {},
   "outputs": [],
   "source": [
    "def potassium_argon(argon: float, potassium: float, init_time: int) -> float :\n",
    "    return (argon / potassium) * (((init_time + 1) * 1.24) / float(5.54e-12 ** -1))\n",
    "\n",
    "\n",
    "def uranium_lead(lead: float, uranium: float) -> float :\n",
    "    return (lead / uranium) * (1 ** -1) # qual a constante de decaimento???\n",
    "\n",
    "\n",
    "def carbon(fossil_age: float, init_activity: float, activity: float) -> float:\n",
    "    return (fossil_age(init_activity / activity) / float(1.67e-11 ** -1))"
   ]
  },
  {
   "cell_type": "code",
   "execution_count": null,
   "metadata": {},
   "outputs": [],
   "source": []
  }
 ],
 "metadata": {
  "kernelspec": {
   "display_name": ".venv",
   "language": "python",
   "name": "python3"
  },
  "language_info": {
   "name": "python",
   "version": "3.12.4"
  }
 },
 "nbformat": 4,
 "nbformat_minor": 2
}
